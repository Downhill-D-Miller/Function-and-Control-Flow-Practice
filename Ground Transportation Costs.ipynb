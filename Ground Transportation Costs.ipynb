{
 "cells": [
  {
   "cell_type": "markdown",
   "metadata": {},
   "source": [
    "# Taxi, Lyft, Uber, or Car Rental\n",
    "## Figuring Out Your Costs"
   ]
  },
  {
   "cell_type": "markdown",
   "metadata": {},
   "source": [
    "\n",
    "\n",
    "One decides to take a trip to Seattle. There are many options for getting around the city. If one does not mind sitting next to random strangers on a crowded bus, public transportation is an option. Other options include getting around by taxi, Lyft, or providing your own transportatin by renting a car. Which options are the cheapest? It would probably depend on how much you need to get around the city. Trips covering large amounts of distance with lengthy trip times might add up quickly to where renting a car may be the more viable option. To help calculate the cost of getting around using the various methods excluding public transportation, some functions will be set up to help figure out the total costs. The goal of this project is to assume someone wants to figure out how much they will spend depending on which option they choose. They would be able to approximate their costs by knowing how far they will travel and plugging in various time ranges.\n",
    "Units used in this project:\n",
    "* Distance: Miles\n",
    "* Time: minutes\n",
    "* Currency: USD\n"
   ]
  },
  {
   "cell_type": "markdown",
   "metadata": {},
   "source": [
    "Option 1. Standard taxi service.  The three main costs to consider when using a taxi:\n",
    "1. Drop charge\n",
    "2. Distance charge\n",
    "3. Time charge\n"
   ]
  },
  {
   "cell_type": "code",
   "execution_count": 1,
   "metadata": {},
   "outputs": [],
   "source": [
    "import random"
   ]
  },
  {
   "cell_type": "code",
   "execution_count": 2,
   "metadata": {},
   "outputs": [
    {
     "name": "stdout",
     "output_type": "stream",
     "text": [
      "14.75\n",
      "14.75\n"
     ]
    }
   ],
   "source": [
    "def taxi_cost(distance, time, drop = 2.60): \n",
    "    distance_charge = distance * 2.70\n",
    "    time_charge = time * 0.50\n",
    "    total_taxi_cost = distance_charge + time_charge +  drop     \n",
    "    return round(total_taxi_cost, 2)\n",
    "\n",
    "print(taxi_cost(3.5, 5.4))\n",
    "# Check to see that the function works properly. \n",
    "# Distance traveled is 3.5 miles\n",
    "# Total time is 5.4 minutes. \n",
    "print(round((3.5 * 2.70) + (5.4 * 0.50) + 2.60, 2))\n",
    "# Looks like the function works correctly"
   ]
  },
  {
   "cell_type": "markdown",
   "metadata": {},
   "source": [
    "Option 2. Lyft and factors to consider in costs\n",
    "  \n",
    "1. Initial cost\n",
    "2. Service fee\n",
    "3. Distance charge\n",
    "4. Time charge\n",
    "5. City tax\n",
    "6. Mininum fare\n",
    "7. Maximum fare"
   ]
  },
  {
   "cell_type": "code",
   "execution_count": 3,
   "metadata": {},
   "outputs": [
    {
     "name": "stdout",
     "output_type": "stream",
     "text": [
      "3.5\n",
      "3.34\n",
      "\n",
      "\n",
      "400.0\n",
      "468.57\n",
      "\n",
      "\n",
      "35.87\n",
      "35.87\n"
     ]
    }
   ],
   "source": [
    "def lyft_cost(distance, time, initial = 1.53, fee = 2.00, tax = 0.24):\n",
    "    distance_charge = distance * 1.60\n",
    "    time_charge = time * 0.27\n",
    "    total_lyft_cost = distance_charge + time_charge + initial + fee + tax\n",
    "    minimum_fare = 3.50\n",
    "    maximum_fare = 400.00\n",
    "    if total_lyft_cost <= 3.50:\n",
    "        price = minimum_fare\n",
    "    elif total_lyft_cost >= 400.00:\n",
    "        price = maximum_fare\n",
    "    else:\n",
    "        price = total_lyft_cost\n",
    "    return round(price,2)\n",
    "\n",
    "# Testing out the lyft_cost function. \n",
    "print(lyft_cost(.5, 1, fee = .50))\n",
    "print((1.60 * .5) + (1 * 0.27) + 1.53 + .50 + 0.24)\n",
    "print('\\n')\n",
    "# Result = 3.34 which is less than 3.5 and the function ouputs value of 3.5 which checks\n",
    "# Going to check if nothing greater than 400.00 gets returned.\n",
    "print(lyft_cost(250, 240))\n",
    "print((250 * 1.60) + (240 * 0.27) + 1.53 + 2.00 + 0.24)\n",
    "print('\\n')\n",
    "# 468.57 > 400.00 It looks like function is working correctly. Peform 3rd check below.\n",
    "print(lyft_cost(15, 30))\n",
    "print(round((15 * 1.60) + (30 * 0.27) + 1.53 + 2.00 + .24, 2))\n",
    "# Function checks"
   ]
  },
  {
   "cell_type": "markdown",
   "metadata": {},
   "source": [
    "Option 3. Uber and factors to consider in costs:\n",
    "1. Base fare\n",
    "2. Time charge\n",
    "3. Distance charge\n",
    "4. Service fee\n"
   ]
  },
  {
   "cell_type": "code",
   "execution_count": 4,
   "metadata": {},
   "outputs": [],
   "source": [
    "def uber_cost(distance, time, model):\n",
    "    if model == 'UberX':\n",
    "        distance_charge = distance  * 1.35\n",
    "        time_charge = time * 0.24\n",
    "        cost = distance_charge + time_charge + 1.35 + 1.30\n",
    "    elif model == 'UberXL':\n",
    "        distance_charge = distance * 2.75\n",
    "        time_charge = time * 0.30\n",
    "        cost = distance_charge + time_charge + 3.00 + 1.30\n",
    "    elif model == 'UberBLACK':\n",
    "        distance_charge = distance * 3.75\n",
    "        time_charge = time * 0.35\n",
    "        cost = distance_charge + time_charge + 7.00\n",
    "    elif model == 'UberSUV':\n",
    "        distance_charge = distance * 4.20\n",
    "        time_charge = time * 0.40\n",
    "        cost = distance_charge + time_charge + 14.00\n",
    "    elif model =='UberSELECT':\n",
    "        distance_charge = distance * 2.75\n",
    "        time_charge = time * 0.30\n",
    "        cost = distance_charge + time_charge + 4.00 + 1.20\n",
    "    return round(cost, 2)\n",
    "        "
   ]
  },
  {
   "cell_type": "markdown",
   "metadata": {},
   "source": [
    "Running a series of tests to make sure the 'uber_cost' function is working correctly. Will use default values of 10 miles for distance and 30 minutes for time.\n"
   ]
  },
  {
   "cell_type": "code",
   "execution_count": 5,
   "metadata": {},
   "outputs": [
    {
     "name": "stdout",
     "output_type": "stream",
     "text": [
      "23.35\n",
      "40.8\n",
      "55.0\n",
      "68.0\n",
      "41.7\n",
      "\n",
      "\n",
      "55.0\n"
     ]
    }
   ],
   "source": [
    "print(uber_cost(10, 30, 'UberX'))\n",
    "print(uber_cost(10, 30, 'UberXL'))\n",
    "print(uber_cost(10, 30, 'UberBLACK'))\n",
    "print(uber_cost(10, 30, 'UberSUV'))\n",
    "print(uber_cost(10, 30, 'UberSELECT'))\n",
    "print('\\n')\n",
    "# Output with different values which indicates function is working properly\n",
    "# Will do a random check to make sure calculations in function are working properly\n",
    "# Will use UberBLACK which should come out to 55.0 \n",
    "print((10 * 3.75) + (30 * 0.35) + 7.00)\n",
    "# Looks like the correct calculations within function are properly working"
   ]
  },
  {
   "cell_type": "markdown",
   "metadata": {},
   "source": [
    "Option 4. Renting your own vehicle"
   ]
  },
  {
   "cell_type": "code",
   "execution_count": 6,
   "metadata": {},
   "outputs": [
    {
     "name": "stdout",
     "output_type": "stream",
     "text": [
      "48.0\n",
      "102.0\n"
     ]
    }
   ],
   "source": [
    "def car_rental(car, num_days):\n",
    "    if car == 'standard':\n",
    "        cost = num_days * 24.00\n",
    "    elif car == 'full-size':\n",
    "        cost = num_days * 30.00\n",
    "    elif car == 'SUV':\n",
    "        cost = num_days * 34.00\n",
    "    elif car == 'minivan':\n",
    "        cost = num_days * 43.00\n",
    "    return round(cost, 2)\n",
    "print(car_rental('standard', 2))\n",
    "print(car_rental('SUV', 3))\n",
    "# The 'car_rental' function appears to be error free"
   ]
  },
  {
   "cell_type": "markdown",
   "metadata": {},
   "source": [
    "Example scenario:\n",
    "\n",
    "Maverick Scorzeeny plans to take a seven-day trip to Seattle and will be traveling to and from a convention about 6.4 miles each way (12.8 miles roundtrip) from his hotel. Due to the fact he will be commuting during heavy traffic both his outbound and inbound trips will run about 30 minutes each! He will only have to make this commute once a day. How much can he plan to spend using the various options? Will he opt for Uber or Lyft but may have to rely on long wait times, or will he opt for taking the taxi due to the quick response times? Could renting a car be the more viable option? What will his costs be using the various methods over the seven-day period?"
   ]
  },
  {
   "cell_type": "code",
   "execution_count": 7,
   "metadata": {},
   "outputs": [
    {
     "name": "stdout",
     "output_type": "stream",
     "text": [
      "It will cost an additional $488.32 to his trip taking the taxi!\n",
      "\n",
      "\n",
      "It will cost an additional $309.54 to his trip using lyft.\n",
      "\n",
      "\n",
      "It will cost an additional $258.86 to his trip using UberX.\n",
      "\n",
      "\n",
      "It will cost an additional $581.0 to his trip using UberBLACK!\n",
      "\n",
      "\n",
      "Renting a standard economy car will cost him an additional $168 exluding gas.\n"
     ]
    }
   ],
   "source": [
    "taxi_price = taxi_cost(6.4, 30)\n",
    "print('It will cost an additional $' + str(round(((taxi_price * 7) *2 ),2)) + ' to his trip taking the taxi!')\n",
    "print('\\n') # Spacing between each entry for less cluttered appearance \n",
    "lyft_price = lyft_cost(6.4, 30)\n",
    "print('It will cost an additional $' + str(round(((lyft_price * 7) * 2),2)) + ' to his trip using lyft.')\n",
    "print('\\n')\n",
    "uberx_cost = uber_cost(6.4, 30, 'UberX')\n",
    "print('It will cost an additional $' +str(round(((uberx_cost * 7) * 2), 2)) + ' to his trip using UberX.')\n",
    "print('\\n')\n",
    "uber_black_cost = uber_cost(6.4, 30, 'UberBLACK')\n",
    "print('It will cost an additional $' + str(round(((uber_black_cost * 7) * 2),2)) + ' to his trip using UberBLACK!')\n",
    "print('\\n')\n",
    "standard_rental = car_rental('standard', 7)\n",
    "print('Renting a standard economy car will cost him an additional $' + str(round(standard_rental)) + ' exluding gas.')"
   ]
  },
  {
   "cell_type": "code",
   "execution_count": 8,
   "metadata": {},
   "outputs": [],
   "source": [
    "summary = '''With so many choices to make when it comes to which mode or carrier to use for transportation\n",
    "one can weigh the options between quick and reliable service that may cost a bit more, or opt for the \n",
    "cheapest mode regardless of wait times. At ${0} each trip for {1}, that should make less of a dent on his wallet. However, \n",
    "one might save even more, much more, if they are willing to do the driving themselves.'''.format(uberx_cost, 'UberX')"
   ]
  },
  {
   "cell_type": "code",
   "execution_count": 9,
   "metadata": {},
   "outputs": [
    {
     "name": "stdout",
     "output_type": "stream",
     "text": [
      "With so many choices to make when it comes to which mode or carrier to use for transportation\n",
      "one can weigh the options between quick and reliable service that may cost a bit more, or opt for the \n",
      "cheapest mode regardless of wait times. At $18.49 each trip for UberX, that should make less of a dent on his wallet. However, \n",
      "one might save even more, much more, if they are willing to do the driving themselves.\n"
     ]
    }
   ],
   "source": [
    "print(summary)"
   ]
  },
  {
   "cell_type": "markdown",
   "metadata": {},
   "source": [
    "Suppose Maverick arrives to Seattle and there are no available car rentals and Uber is out of service, how much can Maverick expect to save over the course of seven days using Lyft? The following python code below will attempt to assist Maverick in calculating his savings!"
   ]
  },
  {
   "cell_type": "code",
   "execution_count": 10,
   "metadata": {},
   "outputs": [
    {
     "name": "stdout",
     "output_type": "stream",
     "text": [
      "It looks like $178.78 will be saved over a seven-day period using Lyft!\n"
     ]
    }
   ],
   "source": [
    "def taxi_vs_lyft(distance, time):\n",
    "    taxi =  (taxi_cost(distance, time)) * 2 \n",
    "    lyft = (lyft_cost(distance, time)) * 2\n",
    "    if taxi < lyft:\n",
    "        return ('It looks like $' + str(round((lyft * 7) - (taxi * 7), 2))  + ' will be saved over a seven-day period using the infamous yellow cab!')\n",
    "    elif lyft < taxi:\n",
    "        return ('It looks like $' + str(round((taxi * 7) - (lyft * 7), 2))  + ' will be saved over a seven-day period using Lyft!')\n",
    "savings = taxi_vs_lyft(6.4, 30)\n",
    "print(savings)"
   ]
  },
  {
   "cell_type": "markdown",
   "metadata": {},
   "source": [
    "Over the course of a seven-day perioud, Maverick will save $178.78!\n",
    " "
   ]
  },
  {
   "cell_type": "markdown",
   "metadata": {},
   "source": [
    "Creating a bot to help assist in determining\n",
    "total trip cost based on ones chosen transportation preferences assuming they do not opt to rent a vehicle. However, let us assume it is a real busy day in the city and  the user will most likely be in a hurry. If the user opts to use a taxi service, he/she can rest assure the wait time will be less than 16 minutes. It could be as long as a 45 minute wait for Lyft or Uber. For those opting for Uber or Lyft the bot will attempt to give a random estimated wait time."
   ]
  },
  {
   "cell_type": "code",
   "execution_count": 11,
   "metadata": {},
   "outputs": [
    {
     "name": "stdout",
     "output_type": "stream",
     "text": [
      "Where do you want to go? Northgate\n"
     ]
    }
   ],
   "source": [
    "destination = input('Where do you want to go? ')"
   ]
  },
  {
   "cell_type": "code",
   "execution_count": 12,
   "metadata": {},
   "outputs": [
    {
     "name": "stdout",
     "output_type": "stream",
     "text": [
      "Enter approximate distance: 5.7\n"
     ]
    }
   ],
   "source": [
    "miles = float(input('Enter approximate distance: '))\n"
   ]
  },
  {
   "cell_type": "code",
   "execution_count": 13,
   "metadata": {},
   "outputs": [
    {
     "name": "stdout",
     "output_type": "stream",
     "text": [
      "That will take about: 18.4\n"
     ]
    }
   ],
   "source": [
    "duration = float(input('That will take about: '))  "
   ]
  },
  {
   "cell_type": "code",
   "execution_count": 14,
   "metadata": {},
   "outputs": [
    {
     "name": "stdout",
     "output_type": "stream",
     "text": [
      "Which mode of transportation do you want to use? Uber\n"
     ]
    }
   ],
   "source": [
    "option = input('Which mode of transportation do you want to use? ')"
   ]
  },
  {
   "cell_type": "code",
   "execution_count": 15,
   "metadata": {},
   "outputs": [
    {
     "data": {
      "text/plain": [
       "\"So, you want to go to Northgate? That is 5.7 miles away. With traffic that will take around 18.4 minutes. I see you will like to use Uber. It's really busy today. So let's check on your approximated wait time.\""
      ]
     },
     "execution_count": 15,
     "metadata": {},
     "output_type": "execute_result"
    }
   ],
   "source": [
    "def message(d = destination, m = miles, t = duration, o = option): # Parameters set to default values from input values above\n",
    "    a_string = 'So, you want to go to ' + d + '?' + ' That is ' + str(m) + ' miles away.'\n",
    "    b_string = ' With traffic that will take around ' + str(t) + ' minutes.'\n",
    "    c_string = ' I see you will like to use ' + o +'.'\n",
    "    d_string = \" It's really busy today. So let's check on your approximated wait time.\"\n",
    "   \n",
    "    \n",
    "     \n",
    "    return a_string + b_string + c_string + d_string\n",
    "    \n",
    "message()"
   ]
  },
  {
   "cell_type": "markdown",
   "metadata": {},
   "source": [
    "User will then use the function below to receive a random wait time put out by the bot. "
   ]
  },
  {
   "cell_type": "code",
   "execution_count": 16,
   "metadata": {},
   "outputs": [
    {
     "name": "stdout",
     "output_type": "stream",
     "text": [
      "Estimating your wait time.\n",
      "It looks like your waiting time is 20 minutes!\n",
      "20 minutes!! I will take the taxi instead!\n"
     ]
    }
   ],
   "source": [
    "def wait_time():\n",
    "    print(\"Estimating your wait time.\")\n",
    "    time = random.randint(0, 45)\n",
    "    print('It looks like your waiting time is ' +str(time) + ' minutes!')\n",
    "    if time <= 15:\n",
    "        print('YES!!' + ' I will wait the ' + str(time) + ' minutes')\n",
    "    else:\n",
    "        print(str(time) + ' minutes!!' + ' I will take the taxi instead!')\n",
    "    \n",
    "wait_time()"
   ]
  },
  {
   "cell_type": "markdown",
   "metadata": {},
   "source": [
    "Having weighed ones options and considering wait times. One would use the 'miles' and 'duration' variables declared above as arguments into the various functions delcared above to get an estimated price for each of the transportation options."
   ]
  },
  {
   "cell_type": "code",
   "execution_count": 17,
   "metadata": {},
   "outputs": [
    {
     "name": "stdout",
     "output_type": "stream",
     "text": [
      "Using the taxi will cost you about $27.19.\n",
      "Using Lyft cost you around $17.86.\n",
      "The UberX option will cost you around $14.76.\n",
      "The UberXL option will cost you around $25.5.\n",
      "The UberBLACK option will cost you around $34.81.\n",
      "The UberSUV option will cost you around $45.3.\n",
      "The UberSELECT option will cost you around $26.39.\n"
     ]
    }
   ],
   "source": [
    "taxi_chosen = taxi_cost(miles, duration)  \n",
    "print('Using the taxi will cost you about $' + str(taxi_chosen) +'.') \n",
    "lyft_chosen = lyft_cost(miles, duration)\n",
    "print('Using Lyft cost you around $' + str(lyft_chosen) +'.')\n",
    "uber_x_chosen = uber_cost(miles, duration, model = 'UberX')\n",
    "print('The UberX option will cost you around $' + str(uber_x_chosen) + '.')\n",
    "uber_xl_chosen = uber_cost(miles, duration, model = 'UberXL')\n",
    "print('The UberXL option will cost you around $' + str(uber_xl_chosen) + '.')\n",
    "uber_black_chosen = uber_cost(miles, duration, model = 'UberBLACK')\n",
    "print('The UberBLACK option will cost you around $' + str(uber_black_chosen) + '.')\n",
    "uber_suv_chosen = uber_cost(miles, duration, model = 'UberSUV')\n",
    "print('The UberSUV option will cost you around $' + str(uber_suv_chosen) + '.')\n",
    "uber_select_chosen = uber_cost(miles, duration, model = 'UberSELECT')\n",
    "print('The UberSELECT option will cost you around $' + str(uber_select_chosen) + '.')\n"
   ]
  },
  {
   "cell_type": "markdown",
   "metadata": {},
   "source": [
    "Given the destination, distance, and approximate trip duration input given by the user, the approximated cost of the trip can be shown to the user. \n",
    "\n",
    "This project utilized some control flow within some of the defined functions above. String concatenation along with converting integer or float values to strings to enable string concatenation in print statements was also utilized. This project also consisted of using some input statements and assigning them to variables. With more options to seemingly choose from when it comes to getting around the city, it can sure be beneficial to at least know before hand about how much a trip will cost!\n",
    "\n",
    "\n",
    "    \n",
    "    \n"
   ]
  },
  {
   "cell_type": "code",
   "execution_count": null,
   "metadata": {},
   "outputs": [],
   "source": []
  }
 ],
 "metadata": {
  "kernelspec": {
   "display_name": "Python 3",
   "language": "python",
   "name": "python3"
  },
  "language_info": {
   "codemirror_mode": {
    "name": "ipython",
    "version": 3
   },
   "file_extension": ".py",
   "mimetype": "text/x-python",
   "name": "python",
   "nbconvert_exporter": "python",
   "pygments_lexer": "ipython3",
   "version": "3.7.3"
  }
 },
 "nbformat": 4,
 "nbformat_minor": 2
}
